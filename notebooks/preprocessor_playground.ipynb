{
 "cells": [
  {
   "cell_type": "code",
   "execution_count": 1,
   "metadata": {},
   "outputs": [],
   "source": [
    "import pandas as pd\n",
    "import numpy as np\n",
    "import matplotlib.pyplot as plt\n",
    "import requests\n",
    "import json\n",
    "from pandas import json_normalize\n",
    "from requests.exceptions import HTTPError\n",
    "from requests.auth import HTTPBasicAuth\n",
    "from getpass import getpass\n",
    "pd.set_option('display.max_rows', None)"
   ]
  },
  {
   "cell_type": "markdown",
   "metadata": {},
   "source": [
    "Have the EC2 ping the API and create an S3 bucket"
   ]
  },
  {
   "cell_type": "code",
   "execution_count": 2,
   "metadata": {},
   "outputs": [],
   "source": [
    "import sys\n",
    "sys.path.append(\"../src\")"
   ]
  },
  {
   "cell_type": "code",
   "execution_count": 3,
   "metadata": {},
   "outputs": [],
   "source": [
    "import config\n",
    "from sodapy import Socrata\n",
    "\n",
    "client = Socrata('data.cityofnewyork.us',\n",
    "                     config.api_key,\n",
    "                     config.api_username,\n",
    "                     config.api_password)\n",
    "\n",
    "# First 5000 results, returned as JSON from API / converted to\n",
    "# Python list of dictionaries by sodapy\n",
    "results = client.get(\"2upf-qytp\", limit=5000)\n",
    "\n",
    "# Convert to pandas DataFrame and get a smaller sample to try out functions\n",
    "results_df = pd.DataFrame.from_records(results)\n",
    "df = results_df.sample(frac=.2)"
   ]
  },
  {
   "cell_type": "code",
   "execution_count": 4,
   "metadata": {},
   "outputs": [],
   "source": [
    "df.index.rename('Transaction Number', inplace=True)"
   ]
  },
  {
   "cell_type": "code",
   "execution_count": 5,
   "metadata": {},
   "outputs": [],
   "source": [
    "df = df.rename(columns={'vendorid': 'Vendor Id'\n",
    "                   ,'tpep_pickup_datetime':'Pickup Datetime'\n",
    "                   ,'tpep_dropoff_datetime': 'Dropoff Datetime'\n",
    "                   ,'passenger_count':'Passenger Count'\n",
    "                   , 'trip_distance': 'Trip Distance'\n",
    "                   , 'ratecodeid': 'Rate Code Id'\n",
    "                   , 'store_and_fwd_flag':'Store and Forward'\n",
    "                   , 'pulocationid': 'Pick Up Location Id'\n",
    "                   ,'dolocationid': 'Drop Off Location Id'\n",
    "                   ,'payment_type': 'Payment Type'\n",
    "                   , 'fare_amount': 'Fare Amount'\n",
    "                   , 'extra': 'Extra'\n",
    "                   ,'mta_tax': 'MTA Tax'\n",
    "                   , 'tip_amount': 'Tip Amount'\n",
    "                   , 'tolls_amount': 'Tolls Amount'\n",
    "                   , 'improvement_surcharge': 'Improvement Surcharge'\n",
    "                   ,'total_amount': 'Total Amount'\n",
    "                   , 'congestion_surcharge':'Congestion Surcharge'})\n",
    "                   \n",
    "# df.head()        \n",
    "\n"
   ]
  },
  {
   "cell_type": "code",
   "execution_count": 6,
   "metadata": {},
   "outputs": [
    {
     "data": {
      "text/plain": [
       "Index(['Vendor Id', 'Pickup Datetime', 'Dropoff Datetime', 'Passenger Count',\n",
       "       'Trip Distance', 'Rate Code Id', 'Store and Forward',\n",
       "       'Pick Up Location Id', 'Drop Off Location Id', 'Payment Type',\n",
       "       'Fare Amount', 'Extra', 'MTA Tax', 'Tip Amount', 'Tolls Amount',\n",
       "       'Improvement Surcharge', 'Total Amount', 'Congestion Surcharge'],\n",
       "      dtype='object')"
      ]
     },
     "execution_count": 6,
     "metadata": {},
     "output_type": "execute_result"
    }
   ],
   "source": [
    "df.columns"
   ]
  },
  {
   "cell_type": "code",
   "execution_count": 7,
   "metadata": {},
   "outputs": [],
   "source": [
    "cols = ['Pick Up Location Id', 'Drop Off Location Id', 'Passenger Count', 'Trip Distance', \n",
    "        'Fare Amount', 'Extra', 'MTA Tax', 'Tip Amount', 'Tolls Amount',\n",
    "       'Improvement Surcharge', 'Total Amount', 'Congestion Surcharge']\n",
    "\n",
    "for col in cols:\n",
    "    df[col] = pd.to_numeric(df[col])"
   ]
  },
  {
   "cell_type": "code",
   "execution_count": null,
   "metadata": {},
   "outputs": [],
   "source": []
  },
  {
   "cell_type": "code",
   "execution_count": 8,
   "metadata": {},
   "outputs": [],
   "source": [
    "# datetimes are datetimes\n",
    "df['Pickup Datetime'] = pd.to_datetime(df['Pickup Datetime'])"
   ]
  },
  {
   "cell_type": "code",
   "execution_count": 9,
   "metadata": {},
   "outputs": [],
   "source": [
    "# datetimes are datetimes\n",
    "df['Dropoff Datetime'] = pd.to_datetime(df['Dropoff Datetime'])"
   ]
  },
  {
   "cell_type": "code",
   "execution_count": 10,
   "metadata": {},
   "outputs": [],
   "source": [
    "df['Trip Time (hrs)']=((df['Dropoff Datetime'] - df['Pickup Datetime'])/np.timedelta64(1, 'h')).round(2)"
   ]
  },
  {
   "cell_type": "code",
   "execution_count": 11,
   "metadata": {},
   "outputs": [],
   "source": [
    "# engineer feature: mph (time / distance )\n",
    "df['Trip Speed mph'] = (df['Trip Distance'] / df['Trip Time (hrs)']).round(2)\n"
   ]
  },
  {
   "cell_type": "code",
   "execution_count": 12,
   "metadata": {},
   "outputs": [],
   "source": [
    "# replace 0 with \"None\", 0.5 with \"Rush Hour\"\n",
    "# df['Extra'] = df['Extra'].replace({'0.5':'Rush Hour', '1': 'Overnight', '0': 'None'})"
   ]
  },
  {
   "cell_type": "code",
   "execution_count": 13,
   "metadata": {},
   "outputs": [],
   "source": [
    "df['Rate Code Id'] = df['Rate Code Id'].replace({'1':'Standard rate',\n",
    "                                                 '2':'JFK', \n",
    "                                                 '3':'Newark',\n",
    "                                                 '4':'Nassau or Westchester',\n",
    "                                                 '5':'Negotiated fare',\n",
    "                                                 '6':'Group ride'})"
   ]
  },
  {
   "cell_type": "code",
   "execution_count": 14,
   "metadata": {},
   "outputs": [],
   "source": [
    "df['Store and Forward'] = df['Store and Forward'].replace({'Y':True, 'N':False})"
   ]
  },
  {
   "cell_type": "code",
   "execution_count": 15,
   "metadata": {},
   "outputs": [],
   "source": [
    "df['Payment Type'] = df['Payment Type'].replace({'1':'Credit Card'\n",
    "                                                 , '2':'Cash'\n",
    "                                                 , '3':'No Charge'\n",
    "                                                 , '4':'Dispute'\n",
    "                                                 , '5':'Unknown'\n",
    "                                                 , '6':'Voided_Trip'})"
   ]
  },
  {
   "cell_type": "code",
   "execution_count": 16,
   "metadata": {},
   "outputs": [],
   "source": [
    "df['Vendor Id'] = df['Vendor Id'].replace({'1':'Creative Mobole'\n",
    "                                           , '2':'VeriFone'})"
   ]
  },
  {
   "cell_type": "code",
   "execution_count": 17,
   "metadata": {},
   "outputs": [
    {
     "data": {
      "text/plain": [
       "array([ 2.5,  0. , -2.5])"
      ]
     },
     "execution_count": 17,
     "metadata": {},
     "output_type": "execute_result"
    }
   ],
   "source": [
    "df['Congestion Surcharge'].unique()"
   ]
  },
  {
   "cell_type": "code",
   "execution_count": 18,
   "metadata": {},
   "outputs": [],
   "source": [
    "df = pd.get_dummies(df, columns=['Payment Type'], dummy_na=True, drop_first=False)"
   ]
  },
  {
   "cell_type": "code",
   "execution_count": 21,
   "metadata": {},
   "outputs": [],
   "source": [
    "taxi_zones = pd.read_csv('../data/taxi+_zone_lookup.csv')\n"
   ]
  },
  {
   "cell_type": "code",
   "execution_count": 22,
   "metadata": {},
   "outputs": [
    {
     "name": "stdout",
     "output_type": "stream",
     "text": [
      "<class 'pandas.core.frame.DataFrame'>\n",
      "RangeIndex: 265 entries, 0 to 264\n",
      "Data columns (total 4 columns):\n",
      " #   Column        Non-Null Count  Dtype \n",
      "---  ------        --------------  ----- \n",
      " 0   LocationID    265 non-null    int64 \n",
      " 1   Borough       265 non-null    object\n",
      " 2   Zone          264 non-null    object\n",
      " 3   service_zone  263 non-null    object\n",
      "dtypes: int64(1), object(3)\n",
      "memory usage: 8.4+ KB\n"
     ]
    }
   ],
   "source": [
    "#left join df wtih taxi_zones on df[Pick Up Location Id]== taxi_zones[LocationId] \n",
    "# and df[Drop Off Location ID] == taxi_zone[LocationID]\n",
    "taxi_zones.info()"
   ]
  },
  {
   "cell_type": "code",
   "execution_count": 23,
   "metadata": {},
   "outputs": [],
   "source": [
    "df = df.merge(taxi_zones, how='left', left_on='Pick Up Location Id',  right_on='LocationID', suffixes=('_Pick_Up', '_Pick_Up_Zone_name'))"
   ]
  },
  {
   "cell_type": "code",
   "execution_count": 24,
   "metadata": {},
   "outputs": [],
   "source": [
    "df = df.drop('LocationID', axis=1)"
   ]
  },
  {
   "cell_type": "code",
   "execution_count": 25,
   "metadata": {},
   "outputs": [],
   "source": [
    "df = df.merge(taxi_zones, how='left', left_on='Drop Off Location Id',  right_on='LocationID', suffixes=('_PickUp', '_DropOff'))\n",
    "\n"
   ]
  },
  {
   "cell_type": "code",
   "execution_count": 26,
   "metadata": {},
   "outputs": [],
   "source": [
    "df = df.drop('LocationID', axis=1)"
   ]
  },
  {
   "cell_type": "code",
   "execution_count": 27,
   "metadata": {},
   "outputs": [
    {
     "data": {
      "text/html": [
       "<div>\n",
       "<style scoped>\n",
       "    .dataframe tbody tr th:only-of-type {\n",
       "        vertical-align: middle;\n",
       "    }\n",
       "\n",
       "    .dataframe tbody tr th {\n",
       "        vertical-align: top;\n",
       "    }\n",
       "\n",
       "    .dataframe thead th {\n",
       "        text-align: right;\n",
       "    }\n",
       "</style>\n",
       "<table border=\"1\" class=\"dataframe\">\n",
       "  <thead>\n",
       "    <tr style=\"text-align: right;\">\n",
       "      <th></th>\n",
       "      <th>Vendor Id</th>\n",
       "      <th>Pickup Datetime</th>\n",
       "      <th>Dropoff Datetime</th>\n",
       "      <th>Passenger Count</th>\n",
       "      <th>Trip Distance</th>\n",
       "      <th>Rate Code Id</th>\n",
       "      <th>Store and Forward</th>\n",
       "      <th>Pick Up Location Id</th>\n",
       "      <th>Drop Off Location Id</th>\n",
       "      <th>Fare Amount</th>\n",
       "      <th>...</th>\n",
       "      <th>Payment Type_Credit Card</th>\n",
       "      <th>Payment Type_Dispute</th>\n",
       "      <th>Payment Type_No Charge</th>\n",
       "      <th>Payment Type_nan</th>\n",
       "      <th>Borough_PickUp</th>\n",
       "      <th>Zone_PickUp</th>\n",
       "      <th>service_zone_PickUp</th>\n",
       "      <th>Borough_DropOff</th>\n",
       "      <th>Zone_DropOff</th>\n",
       "      <th>service_zone_DropOff</th>\n",
       "    </tr>\n",
       "  </thead>\n",
       "  <tbody>\n",
       "    <tr>\n",
       "      <th>0</th>\n",
       "      <td>VeriFone</td>\n",
       "      <td>2019-09-26 20:21:43</td>\n",
       "      <td>2019-09-26 20:42:22</td>\n",
       "      <td>1</td>\n",
       "      <td>1.91</td>\n",
       "      <td>Standard rate</td>\n",
       "      <td>False</td>\n",
       "      <td>234</td>\n",
       "      <td>170</td>\n",
       "      <td>13.0</td>\n",
       "      <td>...</td>\n",
       "      <td>1</td>\n",
       "      <td>0</td>\n",
       "      <td>0</td>\n",
       "      <td>0</td>\n",
       "      <td>Manhattan</td>\n",
       "      <td>Union Sq</td>\n",
       "      <td>Yellow Zone</td>\n",
       "      <td>Manhattan</td>\n",
       "      <td>Murray Hill</td>\n",
       "      <td>Yellow Zone</td>\n",
       "    </tr>\n",
       "    <tr>\n",
       "      <th>1</th>\n",
       "      <td>Creative Mobole</td>\n",
       "      <td>2019-09-26 20:23:44</td>\n",
       "      <td>2019-09-26 20:28:00</td>\n",
       "      <td>3</td>\n",
       "      <td>0.50</td>\n",
       "      <td>Standard rate</td>\n",
       "      <td>False</td>\n",
       "      <td>141</td>\n",
       "      <td>237</td>\n",
       "      <td>4.5</td>\n",
       "      <td>...</td>\n",
       "      <td>0</td>\n",
       "      <td>0</td>\n",
       "      <td>0</td>\n",
       "      <td>0</td>\n",
       "      <td>Manhattan</td>\n",
       "      <td>Lenox Hill West</td>\n",
       "      <td>Yellow Zone</td>\n",
       "      <td>Manhattan</td>\n",
       "      <td>Upper East Side South</td>\n",
       "      <td>Yellow Zone</td>\n",
       "    </tr>\n",
       "    <tr>\n",
       "      <th>2</th>\n",
       "      <td>VeriFone</td>\n",
       "      <td>2019-09-26 21:47:34</td>\n",
       "      <td>2019-09-26 21:52:18</td>\n",
       "      <td>1</td>\n",
       "      <td>0.70</td>\n",
       "      <td>Standard rate</td>\n",
       "      <td>False</td>\n",
       "      <td>144</td>\n",
       "      <td>45</td>\n",
       "      <td>5.0</td>\n",
       "      <td>...</td>\n",
       "      <td>1</td>\n",
       "      <td>0</td>\n",
       "      <td>0</td>\n",
       "      <td>0</td>\n",
       "      <td>Manhattan</td>\n",
       "      <td>Little Italy/NoLiTa</td>\n",
       "      <td>Yellow Zone</td>\n",
       "      <td>Manhattan</td>\n",
       "      <td>Chinatown</td>\n",
       "      <td>Yellow Zone</td>\n",
       "    </tr>\n",
       "    <tr>\n",
       "      <th>3</th>\n",
       "      <td>VeriFone</td>\n",
       "      <td>2019-09-26 20:11:42</td>\n",
       "      <td>2019-09-26 20:19:32</td>\n",
       "      <td>3</td>\n",
       "      <td>1.53</td>\n",
       "      <td>Standard rate</td>\n",
       "      <td>False</td>\n",
       "      <td>186</td>\n",
       "      <td>113</td>\n",
       "      <td>7.5</td>\n",
       "      <td>...</td>\n",
       "      <td>0</td>\n",
       "      <td>0</td>\n",
       "      <td>0</td>\n",
       "      <td>0</td>\n",
       "      <td>Manhattan</td>\n",
       "      <td>Penn Station/Madison Sq West</td>\n",
       "      <td>Yellow Zone</td>\n",
       "      <td>Manhattan</td>\n",
       "      <td>Greenwich Village North</td>\n",
       "      <td>Yellow Zone</td>\n",
       "    </tr>\n",
       "    <tr>\n",
       "      <th>4</th>\n",
       "      <td>Creative Mobole</td>\n",
       "      <td>2019-09-26 20:44:31</td>\n",
       "      <td>2019-09-26 20:58:48</td>\n",
       "      <td>3</td>\n",
       "      <td>1.50</td>\n",
       "      <td>Standard rate</td>\n",
       "      <td>False</td>\n",
       "      <td>142</td>\n",
       "      <td>68</td>\n",
       "      <td>10.5</td>\n",
       "      <td>...</td>\n",
       "      <td>0</td>\n",
       "      <td>0</td>\n",
       "      <td>0</td>\n",
       "      <td>0</td>\n",
       "      <td>Manhattan</td>\n",
       "      <td>Lincoln Square East</td>\n",
       "      <td>Yellow Zone</td>\n",
       "      <td>Manhattan</td>\n",
       "      <td>East Chelsea</td>\n",
       "      <td>Yellow Zone</td>\n",
       "    </tr>\n",
       "  </tbody>\n",
       "</table>\n",
       "<p>5 rows × 30 columns</p>\n",
       "</div>"
      ],
      "text/plain": [
       "         Vendor Id     Pickup Datetime    Dropoff Datetime  Passenger Count  \\\n",
       "0         VeriFone 2019-09-26 20:21:43 2019-09-26 20:42:22                1   \n",
       "1  Creative Mobole 2019-09-26 20:23:44 2019-09-26 20:28:00                3   \n",
       "2         VeriFone 2019-09-26 21:47:34 2019-09-26 21:52:18                1   \n",
       "3         VeriFone 2019-09-26 20:11:42 2019-09-26 20:19:32                3   \n",
       "4  Creative Mobole 2019-09-26 20:44:31 2019-09-26 20:58:48                3   \n",
       "\n",
       "   Trip Distance   Rate Code Id  Store and Forward  Pick Up Location Id  \\\n",
       "0           1.91  Standard rate              False                  234   \n",
       "1           0.50  Standard rate              False                  141   \n",
       "2           0.70  Standard rate              False                  144   \n",
       "3           1.53  Standard rate              False                  186   \n",
       "4           1.50  Standard rate              False                  142   \n",
       "\n",
       "   Drop Off Location Id  Fare Amount  ...  Payment Type_Credit Card  \\\n",
       "0                   170         13.0  ...                         1   \n",
       "1                   237          4.5  ...                         0   \n",
       "2                    45          5.0  ...                         1   \n",
       "3                   113          7.5  ...                         0   \n",
       "4                    68         10.5  ...                         0   \n",
       "\n",
       "   Payment Type_Dispute  Payment Type_No Charge  Payment Type_nan  \\\n",
       "0                     0                       0                 0   \n",
       "1                     0                       0                 0   \n",
       "2                     0                       0                 0   \n",
       "3                     0                       0                 0   \n",
       "4                     0                       0                 0   \n",
       "\n",
       "   Borough_PickUp                   Zone_PickUp  service_zone_PickUp  \\\n",
       "0       Manhattan                      Union Sq          Yellow Zone   \n",
       "1       Manhattan               Lenox Hill West          Yellow Zone   \n",
       "2       Manhattan           Little Italy/NoLiTa          Yellow Zone   \n",
       "3       Manhattan  Penn Station/Madison Sq West          Yellow Zone   \n",
       "4       Manhattan           Lincoln Square East          Yellow Zone   \n",
       "\n",
       "   Borough_DropOff             Zone_DropOff  service_zone_DropOff  \n",
       "0        Manhattan              Murray Hill           Yellow Zone  \n",
       "1        Manhattan    Upper East Side South           Yellow Zone  \n",
       "2        Manhattan                Chinatown           Yellow Zone  \n",
       "3        Manhattan  Greenwich Village North           Yellow Zone  \n",
       "4        Manhattan             East Chelsea           Yellow Zone  \n",
       "\n",
       "[5 rows x 30 columns]"
      ]
     },
     "execution_count": 27,
     "metadata": {},
     "output_type": "execute_result"
    }
   ],
   "source": [
    "df.head()"
   ]
  },
  {
   "cell_type": "code",
   "execution_count": 28,
   "metadata": {},
   "outputs": [
    {
     "data": {
      "text/plain": [
       "Index(['Vendor Id', 'Pickup Datetime', 'Dropoff Datetime', 'Passenger Count',\n",
       "       'Trip Distance', 'Rate Code Id', 'Store and Forward',\n",
       "       'Pick Up Location Id', 'Drop Off Location Id', 'Fare Amount', 'Extra',\n",
       "       'MTA Tax', 'Tip Amount', 'Tolls Amount', 'Improvement Surcharge',\n",
       "       'Total Amount', 'Congestion Surcharge', 'Trip Time (hrs)',\n",
       "       'Trip Speed mph', 'Payment Type_Cash', 'Payment Type_Credit Card',\n",
       "       'Payment Type_Dispute', 'Payment Type_No Charge', 'Payment Type_nan',\n",
       "       'Borough_PickUp', 'Zone_PickUp', 'service_zone_PickUp',\n",
       "       'Borough_DropOff', 'Zone_DropOff', 'service_zone_DropOff'],\n",
       "      dtype='object')"
      ]
     },
     "execution_count": 28,
     "metadata": {},
     "output_type": "execute_result"
    }
   ],
   "source": [
    "df.columns"
   ]
  },
  {
   "cell_type": "code",
   "execution_count": 29,
   "metadata": {},
   "outputs": [],
   "source": [
    "reordered_columns = ['Vendor Id', 'Pickup Datetime', 'Dropoff Datetime', 'Passenger Count',\n",
    "                'Trip Distance',  'Trip Time (hrs)', 'Trip Speed mph',\n",
    "                'Rate Code Id', 'Store and Forward',\n",
    "                'Pick Up Location Id', 'Borough_PickUp', 'Zone_PickUp', 'service_zone_PickUp',\n",
    "                'Drop Off Location Id', 'Borough_DropOff', 'Zone_DropOff', 'service_zone_DropOff', \n",
    "                'Fare Amount', 'Extra', 'MTA Tax', 'Tip Amount', 'Tolls Amount', 'Improvement Surcharge',\n",
    "                'Total Amount', 'Congestion Surcharge', 'Payment Type_Cash', 'Payment Type_Credit Card',\n",
    "                'Payment Type_No Charge', 'Payment Type_nan', 'Payment Type_Dispute']\n"
   ]
  },
  {
   "cell_type": "code",
   "execution_count": 34,
   "metadata": {},
   "outputs": [],
   "source": [
    "df_final = df.reindex(columns=reordered_columns)"
   ]
  },
  {
   "cell_type": "code",
   "execution_count": 36,
   "metadata": {},
   "outputs": [
    {
     "data": {
      "text/html": [
       "<div>\n",
       "<style scoped>\n",
       "    .dataframe tbody tr th:only-of-type {\n",
       "        vertical-align: middle;\n",
       "    }\n",
       "\n",
       "    .dataframe tbody tr th {\n",
       "        vertical-align: top;\n",
       "    }\n",
       "\n",
       "    .dataframe thead th {\n",
       "        text-align: right;\n",
       "    }\n",
       "</style>\n",
       "<table border=\"1\" class=\"dataframe\">\n",
       "  <thead>\n",
       "    <tr style=\"text-align: right;\">\n",
       "      <th></th>\n",
       "      <th>Vendor Id</th>\n",
       "      <th>Pickup Datetime</th>\n",
       "      <th>Dropoff Datetime</th>\n",
       "      <th>Passenger Count</th>\n",
       "      <th>Trip Distance</th>\n",
       "      <th>Trip Time (hrs)</th>\n",
       "      <th>Trip Speed mph</th>\n",
       "      <th>Rate Code Id</th>\n",
       "      <th>Store and Forward</th>\n",
       "      <th>Pick Up Location Id</th>\n",
       "      <th>...</th>\n",
       "      <th>Tip Amount</th>\n",
       "      <th>Tolls Amount</th>\n",
       "      <th>Improvement Surcharge</th>\n",
       "      <th>Total Amount</th>\n",
       "      <th>Congestion Surcharge</th>\n",
       "      <th>Payment Type_Cash</th>\n",
       "      <th>Payment Type_Credit Card</th>\n",
       "      <th>Payment Type_No Charge</th>\n",
       "      <th>Payment Type_nan</th>\n",
       "      <th>Payment Type_Dispute</th>\n",
       "    </tr>\n",
       "  </thead>\n",
       "  <tbody>\n",
       "    <tr>\n",
       "      <th>0</th>\n",
       "      <td>VeriFone</td>\n",
       "      <td>2019-09-26 20:21:43</td>\n",
       "      <td>2019-09-26 20:42:22</td>\n",
       "      <td>1</td>\n",
       "      <td>1.91</td>\n",
       "      <td>0.34</td>\n",
       "      <td>5.62</td>\n",
       "      <td>Standard rate</td>\n",
       "      <td>False</td>\n",
       "      <td>234</td>\n",
       "      <td>...</td>\n",
       "      <td>3.36</td>\n",
       "      <td>0.0</td>\n",
       "      <td>0.3</td>\n",
       "      <td>20.16</td>\n",
       "      <td>2.5</td>\n",
       "      <td>0</td>\n",
       "      <td>1</td>\n",
       "      <td>0</td>\n",
       "      <td>0</td>\n",
       "      <td>0</td>\n",
       "    </tr>\n",
       "    <tr>\n",
       "      <th>1</th>\n",
       "      <td>Creative Mobole</td>\n",
       "      <td>2019-09-26 20:23:44</td>\n",
       "      <td>2019-09-26 20:28:00</td>\n",
       "      <td>3</td>\n",
       "      <td>0.50</td>\n",
       "      <td>0.07</td>\n",
       "      <td>7.14</td>\n",
       "      <td>Standard rate</td>\n",
       "      <td>False</td>\n",
       "      <td>141</td>\n",
       "      <td>...</td>\n",
       "      <td>0.00</td>\n",
       "      <td>0.0</td>\n",
       "      <td>0.3</td>\n",
       "      <td>8.30</td>\n",
       "      <td>2.5</td>\n",
       "      <td>1</td>\n",
       "      <td>0</td>\n",
       "      <td>0</td>\n",
       "      <td>0</td>\n",
       "      <td>0</td>\n",
       "    </tr>\n",
       "    <tr>\n",
       "      <th>2</th>\n",
       "      <td>VeriFone</td>\n",
       "      <td>2019-09-26 21:47:34</td>\n",
       "      <td>2019-09-26 21:52:18</td>\n",
       "      <td>1</td>\n",
       "      <td>0.70</td>\n",
       "      <td>0.08</td>\n",
       "      <td>8.75</td>\n",
       "      <td>Standard rate</td>\n",
       "      <td>False</td>\n",
       "      <td>144</td>\n",
       "      <td>...</td>\n",
       "      <td>1.00</td>\n",
       "      <td>0.0</td>\n",
       "      <td>0.3</td>\n",
       "      <td>9.80</td>\n",
       "      <td>2.5</td>\n",
       "      <td>0</td>\n",
       "      <td>1</td>\n",
       "      <td>0</td>\n",
       "      <td>0</td>\n",
       "      <td>0</td>\n",
       "    </tr>\n",
       "    <tr>\n",
       "      <th>3</th>\n",
       "      <td>VeriFone</td>\n",
       "      <td>2019-09-26 20:11:42</td>\n",
       "      <td>2019-09-26 20:19:32</td>\n",
       "      <td>3</td>\n",
       "      <td>1.53</td>\n",
       "      <td>0.13</td>\n",
       "      <td>11.77</td>\n",
       "      <td>Standard rate</td>\n",
       "      <td>False</td>\n",
       "      <td>186</td>\n",
       "      <td>...</td>\n",
       "      <td>0.00</td>\n",
       "      <td>0.0</td>\n",
       "      <td>0.3</td>\n",
       "      <td>11.30</td>\n",
       "      <td>2.5</td>\n",
       "      <td>1</td>\n",
       "      <td>0</td>\n",
       "      <td>0</td>\n",
       "      <td>0</td>\n",
       "      <td>0</td>\n",
       "    </tr>\n",
       "    <tr>\n",
       "      <th>4</th>\n",
       "      <td>Creative Mobole</td>\n",
       "      <td>2019-09-26 20:44:31</td>\n",
       "      <td>2019-09-26 20:58:48</td>\n",
       "      <td>3</td>\n",
       "      <td>1.50</td>\n",
       "      <td>0.24</td>\n",
       "      <td>6.25</td>\n",
       "      <td>Standard rate</td>\n",
       "      <td>False</td>\n",
       "      <td>142</td>\n",
       "      <td>...</td>\n",
       "      <td>0.00</td>\n",
       "      <td>0.0</td>\n",
       "      <td>0.3</td>\n",
       "      <td>14.30</td>\n",
       "      <td>2.5</td>\n",
       "      <td>1</td>\n",
       "      <td>0</td>\n",
       "      <td>0</td>\n",
       "      <td>0</td>\n",
       "      <td>0</td>\n",
       "    </tr>\n",
       "  </tbody>\n",
       "</table>\n",
       "<p>5 rows × 30 columns</p>\n",
       "</div>"
      ],
      "text/plain": [
       "         Vendor Id     Pickup Datetime    Dropoff Datetime  Passenger Count  \\\n",
       "0         VeriFone 2019-09-26 20:21:43 2019-09-26 20:42:22                1   \n",
       "1  Creative Mobole 2019-09-26 20:23:44 2019-09-26 20:28:00                3   \n",
       "2         VeriFone 2019-09-26 21:47:34 2019-09-26 21:52:18                1   \n",
       "3         VeriFone 2019-09-26 20:11:42 2019-09-26 20:19:32                3   \n",
       "4  Creative Mobole 2019-09-26 20:44:31 2019-09-26 20:58:48                3   \n",
       "\n",
       "   Trip Distance  Trip Time (hrs)  Trip Speed mph   Rate Code Id  \\\n",
       "0           1.91             0.34            5.62  Standard rate   \n",
       "1           0.50             0.07            7.14  Standard rate   \n",
       "2           0.70             0.08            8.75  Standard rate   \n",
       "3           1.53             0.13           11.77  Standard rate   \n",
       "4           1.50             0.24            6.25  Standard rate   \n",
       "\n",
       "   Store and Forward  Pick Up Location Id  ... Tip Amount Tolls Amount  \\\n",
       "0              False                  234  ...       3.36          0.0   \n",
       "1              False                  141  ...       0.00          0.0   \n",
       "2              False                  144  ...       1.00          0.0   \n",
       "3              False                  186  ...       0.00          0.0   \n",
       "4              False                  142  ...       0.00          0.0   \n",
       "\n",
       "  Improvement Surcharge  Total Amount Congestion Surcharge Payment Type_Cash  \\\n",
       "0                   0.3         20.16                  2.5                 0   \n",
       "1                   0.3          8.30                  2.5                 1   \n",
       "2                   0.3          9.80                  2.5                 0   \n",
       "3                   0.3         11.30                  2.5                 1   \n",
       "4                   0.3         14.30                  2.5                 1   \n",
       "\n",
       "  Payment Type_Credit Card  Payment Type_No Charge  Payment Type_nan  \\\n",
       "0                        1                       0                 0   \n",
       "1                        0                       0                 0   \n",
       "2                        1                       0                 0   \n",
       "3                        0                       0                 0   \n",
       "4                        0                       0                 0   \n",
       "\n",
       "   Payment Type_Dispute  \n",
       "0                     0  \n",
       "1                     0  \n",
       "2                     0  \n",
       "3                     0  \n",
       "4                     0  \n",
       "\n",
       "[5 rows x 30 columns]"
      ]
     },
     "execution_count": 36,
     "metadata": {},
     "output_type": "execute_result"
    }
   ],
   "source": [
    "df_final.head()"
   ]
  },
  {
   "cell_type": "markdown",
   "metadata": {},
   "source": [
    "### Did\n",
    "- reindex so each row is a trip instance CHECK\n",
    "- datetimes are datetimes CHECK\n",
    "- engineer feature: mph (time / distance ) CHECK\n",
    "- Rename extra to none, overnight, rush hour CHECK \n",
    "- convert all numeric strings to floats/numerics CHECK\n",
    "- match taxizone with zipcode or location name CHECK\n",
    "- Convert Rate Code id to 1= Standard rate, 2=JFK, 3=Newark, 4=Nassau or Westchester  5=Negotiated fare, 6=Group ride\n",
    "- one hot encode the payment types \n",
    "-  reorder the taxicode pickup and drop off names\n",
    "\n",
    "\n",
    "\n",
    "### To Do\n",
    "- Rename the suffixed columns headers"
   ]
  },
  {
   "cell_type": "code",
   "execution_count": null,
   "metadata": {},
   "outputs": [],
   "source": []
  },
  {
   "cell_type": "code",
   "execution_count": null,
   "metadata": {},
   "outputs": [],
   "source": []
  }
 ],
 "metadata": {
  "kernelspec": {
   "display_name": "Python 3",
   "language": "python",
   "name": "python3"
  },
  "language_info": {
   "codemirror_mode": {
    "name": "ipython",
    "version": 3
   },
   "file_extension": ".py",
   "mimetype": "text/x-python",
   "name": "python",
   "nbconvert_exporter": "python",
   "pygments_lexer": "ipython3",
   "version": "3.7.9"
  }
 },
 "nbformat": 4,
 "nbformat_minor": 4
}
